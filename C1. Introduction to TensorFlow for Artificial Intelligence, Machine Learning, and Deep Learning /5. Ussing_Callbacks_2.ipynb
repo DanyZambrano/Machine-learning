{
  "nbformat": 4,
  "nbformat_minor": 0,
  "metadata": {
    "colab": {
      "name": "Ussing Callbacks 2.ipynb",
      "provenance": []
    },
    "kernelspec": {
      "name": "python3",
      "display_name": "Python 3"
    },
    "language_info": {
      "name": "python"
    }
  },
  "cells": [
    {
      "cell_type": "markdown",
      "source": [
        "# Callbacks\n",
        "\n",
        "Emplearemos un callback para detener el entrenamiento cuando la presicion sea del 99%\n",
        "\n"
      ],
      "metadata": {
        "id": "4PqFat85aw7m"
      }
    },
    {
      "cell_type": "markdown",
      "source": [
        "# Importar y cargar la Data "
      ],
      "metadata": {
        "id": "yjBNqMk8bWac"
      }
    },
    {
      "cell_type": "code",
      "execution_count": 1,
      "metadata": {
        "id": "ovi5Ybq5aRDh"
      },
      "outputs": [],
      "source": [
        "import os\n",
        "import tensorflow as tf\n",
        "from tensorflow import keras\n",
        "\n",
        "mnist = tf.keras.datasets.mnist"
      ]
    },
    {
      "cell_type": "markdown",
      "source": [
        "# Normalizamos la Data"
      ],
      "metadata": {
        "id": "Qj3on_n1lOuj"
      }
    },
    {
      "cell_type": "code",
      "source": [
        "# Discard test set\n",
        "(x_train, y_train), _ =  mnist.load_data()\n",
        "        \n",
        "# Normalize pixel values\n",
        "x_train = x_train / 255.0"
      ],
      "metadata": {
        "colab": {
          "base_uri": "https://localhost:8080/"
        },
        "id": "_eBdYuOflN1w",
        "outputId": "3fcdef59-0eca-4a4f-a545-33b861b0b62e"
      },
      "execution_count": 4,
      "outputs": [
        {
          "output_type": "stream",
          "name": "stdout",
          "text": [
            "Downloading data from https://storage.googleapis.com/tensorflow/tf-keras-datasets/mnist.npz\n",
            "11493376/11490434 [==============================] - 0s 0us/step\n",
            "11501568/11490434 [==============================] - 0s 0us/step\n"
          ]
        }
      ]
    },
    {
      "cell_type": "code",
      "source": [
        "data_shape = x_train.shape\n",
        "print(f\"There are {data_shape[0]} examples with shape ({data_shape[1]}, {data_shape[2]})\")"
      ],
      "metadata": {
        "colab": {
          "base_uri": "https://localhost:8080/"
        },
        "id": "awq3AuF0lXok",
        "outputId": "400dbf57-1443-46f4-b43d-18edce8055c9"
      },
      "execution_count": 5,
      "outputs": [
        {
          "output_type": "stream",
          "name": "stdout",
          "text": [
            "There are 60000 examples with shape (28, 28)\n"
          ]
        }
      ]
    },
    {
      "cell_type": "markdown",
      "source": [
        "# Creamos un callback\n",
        "\n"
      ],
      "metadata": {
        "id": "-DHMAve4br7W"
      }
    },
    {
      "cell_type": "code",
      "source": [
        "class myCallback(tf.keras.callbacks.Callback):\n",
        "        def on_epoch_end(self, epoch, logs={}):\n",
        "            if logs.get('accuracy') > 0.99:\n",
        "                print(\"\\nReached 99% accuracy so cancelling training!\") \n",
        "                self.model.stop_training = True\n"
      ],
      "metadata": {
        "id": "kVnUfHbKbwAd"
      },
      "execution_count": 6,
      "outputs": []
    },
    {
      "cell_type": "markdown",
      "source": [
        "# Construimos y compilamos el Modelo"
      ],
      "metadata": {
        "id": "iNdAESOpcoVP"
      }
    },
    {
      "cell_type": "code",
      "source": [
        "def train_mnist(x_train, y_train):\n",
        "\n",
        "    callbacks = myCallback()\n",
        "    model = tf.keras.models.Sequential([ \n",
        "          tf.keras.layers.Flatten(input_shape=(28, 28)),\n",
        "          tf.keras.layers.Dense(512, activation=tf.nn.relu),\n",
        "          tf.keras.layers.Dense(10, activation=tf.nn.softmax)\n",
        "    ]) \n",
        "\n",
        "    model.compile(optimizer='adam', \n",
        "                  loss='sparse_categorical_crossentropy', \n",
        "                  metrics=['accuracy']) \n",
        "    \n",
        "    history = model.fit(x_train, y_train, epochs=10, callbacks=[callbacks])\n",
        "\n",
        "    return history"
      ],
      "metadata": {
        "id": "ecD8BVQudGOi"
      },
      "execution_count": 7,
      "outputs": []
    },
    {
      "cell_type": "markdown",
      "source": [
        "# Entrenamos el Modelo"
      ],
      "metadata": {
        "id": "gHXVnM82dVTr"
      }
    },
    {
      "cell_type": "code",
      "source": [
        "hist = train_mnist(x_train, y_train)"
      ],
      "metadata": {
        "colab": {
          "base_uri": "https://localhost:8080/"
        },
        "id": "_CuhNp-edUPV",
        "outputId": "bfdf02d3-d75f-481f-a86b-8d6adb744760"
      },
      "execution_count": 8,
      "outputs": [
        {
          "output_type": "stream",
          "name": "stdout",
          "text": [
            "Epoch 1/10\n",
            "1875/1875 [==============================] - 13s 6ms/step - loss: 0.2026 - accuracy: 0.9409\n",
            "Epoch 2/10\n",
            "1875/1875 [==============================] - 12s 6ms/step - loss: 0.0805 - accuracy: 0.9755\n",
            "Epoch 3/10\n",
            "1875/1875 [==============================] - 12s 7ms/step - loss: 0.0532 - accuracy: 0.9836\n",
            "Epoch 4/10\n",
            "1875/1875 [==============================] - 12s 7ms/step - loss: 0.0376 - accuracy: 0.9879\n",
            "Epoch 5/10\n",
            "1869/1875 [============================>.] - ETA: 0s - loss: 0.0270 - accuracy: 0.9913\n",
            "Reached 99% accuracy so cancelling training!\n",
            "1875/1875 [==============================] - 12s 7ms/step - loss: 0.0270 - accuracy: 0.9913\n"
          ]
        }
      ]
    }
  ]
}